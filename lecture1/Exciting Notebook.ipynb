{
 "cells": [
  {
   "cell_type": "markdown",
   "metadata": {},
   "source": [
    "# Header 1\n",
    "\n",
    "## Header 2\n",
    "\n",
    "### Header 3\n",
    "\n",
    "This exciting notebook is inspired by a notebook from 'Learning IPython for Interactive Computing and Data Visualization.  Second Edition.' by Cyrille Rossant.  Packt Publishing.  \n"
   ]
  },
  {
   "cell_type": "markdown",
   "metadata": {},
   "source": [
    "### Formatted text\n",
    "\n",
    "This is *Italics* and **bold text**  \n",
    "  \n",
    "  "
   ]
  },
  {
   "cell_type": "markdown",
   "metadata": {},
   "source": [
    "### A link and an image\n",
    "\n",
    "[A link](http://google.com)\n",
    "\n",
    "![This is an image](http://ipython.org/_static/IPy_header.png)  \n",
    "\n",
    "'This is an image' is the text that will be displayed if an image is not visible  (img alt tag in html)\n",
    "\n"
   ]
  },
  {
   "cell_type": "markdown",
   "metadata": {},
   "source": [
    "### Horizontal rule\n",
    "\n",
    "___"
   ]
  },
  {
   "cell_type": "markdown",
   "metadata": {},
   "source": [
    "### Code with syntax highlighting\n",
    "\n",
    "```python\n",
    "\n",
    "# use three backquotes (backticks)\n",
    "print(\"Hello world\")\n",
    "```"
   ]
  },
  {
   "cell_type": "markdown",
   "metadata": {},
   "source": [
    "\n",
    "**Markdown** is a lightweight markup language with plain text formatting syntax. \n",
    "  \n",
    "  \n",
    "[Wiki](https://en.wikipedia.org/wiki/Markdown)  \n",
    "[Original Specification](https://daringfireball.net/projects/markdown/syntax#code)    \n",
    "[Github Tutorial](https://help.github.com/articles/getting-started-with-writing-and-formatting-on-github/)    \n",
    "[Commonmark Tutorials](http://commonmark.org/help/)  "
   ]
  },
  {
   "cell_type": "markdown",
   "metadata": {},
   "source": [
    "$$\\hat{f}(\\xi) = \\int_{-\\infty}^{+\\infty} f(x)\\, \\mathrm{e}^{-i \\xi x} dx$$\n",
    "\n",
    "[LaTeX Wiki](https://en.wikipedia.org/wiki/LaTeX)"
   ]
  },
  {
   "cell_type": "code",
   "execution_count": null,
   "metadata": {},
   "outputs": [],
   "source": []
  }
 ],
 "metadata": {
  "anaconda-cloud": {},
  "kernelspec": {
   "display_name": "Python 3",
   "language": "python",
   "name": "python3"
  },
  "language_info": {
   "codemirror_mode": {
    "name": "ipython",
    "version": 3
   },
   "file_extension": ".py",
   "mimetype": "text/x-python",
   "name": "python",
   "nbconvert_exporter": "python",
   "pygments_lexer": "ipython3",
   "version": "3.8.8"
  }
 },
 "nbformat": 4,
 "nbformat_minor": 1
}
