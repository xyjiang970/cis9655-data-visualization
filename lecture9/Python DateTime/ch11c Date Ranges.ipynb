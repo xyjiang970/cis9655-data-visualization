{
 "cells": [
  {
   "cell_type": "markdown",
   "metadata": {},
   "source": [
    "# 11.3 Date Ranges, Frequencies, and Shifting \n",
    "\n",
    "## Frequency\n",
    "\n",
    "Generic time series in pandas are assumed to be irregular; that is, they have no fixed frequency.  For many applications this is sufficient.  However, it's often desirable to work relative to a fixed frequency, such as **daily, monthly, or every 15 minutes**, even if that means introducing missing values into a time series.\n",
    "\n",
    "## Resampling\n",
    "\n",
    "Resampling involves changing the frequency of your time series observations.  \n",
    "  \n",
    "Two types of resampling are:  \n",
    "  \n",
    "- **Upsampling**: Where you increase the frequency of the samples, such as from minutes to seconds.  This might mean introducing missing values into a time series.\n",
    "  \n",
    "- **Downsampling**: Where you decrease the frequency of the samples, such as from days to months.\n"
   ]
  },
  {
   "cell_type": "code",
   "execution_count": 15,
   "metadata": {},
   "outputs": [],
   "source": [
    "from pandas import DataFrame, Series\n",
    "import pandas as pd\n",
    "from datetime import datetime\n",
    "import numpy as np\n",
    "%matplotlib inline"
   ]
  },
  {
   "cell_type": "markdown",
   "metadata": {},
   "source": [
    "Create time series.  Frequency is not fixed - close to 'every other day'."
   ]
  },
  {
   "cell_type": "code",
   "execution_count": 16,
   "metadata": {},
   "outputs": [
    {
     "data": {
      "text/plain": [
       "2018-11-24    0\n",
       "2018-11-26    1\n",
       "2018-11-28    2\n",
       "2018-11-30    3\n",
       "2018-12-03    4\n",
       "dtype: int64"
      ]
     },
     "execution_count": 16,
     "metadata": {},
     "output_type": "execute_result"
    }
   ],
   "source": [
    "# Create time series\n",
    "ts = Series([0, 1, 2, 3, 4], index=pd.DatetimeIndex([\n",
    "                                    '11/24/2018', \n",
    "                                    '11/26/2018',\n",
    "                                    '11/28/2018',\n",
    "                                    '11/30/2018',\n",
    "                                    '12/3/2018']))\n",
    "ts"
   ]
  },
  {
   "cell_type": "markdown",
   "metadata": {},
   "source": [
    "Resample to daily frequency.  The string 'D' is interpreted as daily frequency."
   ]
  },
  {
   "cell_type": "code",
   "execution_count": 17,
   "metadata": {},
   "outputs": [
    {
     "data": {
      "text/plain": [
       "2018-11-24    1\n",
       "2018-11-25    0\n",
       "2018-11-26    1\n",
       "2018-11-27    0\n",
       "2018-11-28    1\n",
       "2018-11-29    0\n",
       "2018-11-30    1\n",
       "2018-12-01    0\n",
       "2018-12-02    0\n",
       "2018-12-03    1\n",
       "Freq: D, dtype: int64"
      ]
     },
     "execution_count": 17,
     "metadata": {},
     "output_type": "execute_result"
    }
   ],
   "source": [
    "# 'D' - daily\n",
    "resampler = ts.resample('D')\n",
    "\n",
    "#count of values in each group\n",
    "resampler.count()"
   ]
  },
  {
   "cell_type": "markdown",
   "metadata": {},
   "source": [
    "## Generating Date Ranges\n",
    "\n",
    "***pandas.date_range()*** is responsible for generating a DatetimeIndex \n",
    "- with an indicated length \n",
    "- according to a particular frequency  "
   ]
  },
  {
   "cell_type": "code",
   "execution_count": 18,
   "metadata": {},
   "outputs": [
    {
     "data": {
      "text/plain": [
       "DatetimeIndex(['2018-11-24', '2018-11-25', '2018-11-26', '2018-11-27',\n",
       "               '2018-11-28'],\n",
       "              dtype='datetime64[ns]', freq='D')"
      ]
     },
     "execution_count": 18,
     "metadata": {},
     "output_type": "execute_result"
    }
   ],
   "source": [
    "# daily timestamps by default\n",
    "# pass start date and end date\n",
    "index = pd.date_range('2018-11-24', '2018-11-28')\n",
    "index"
   ]
  },
  {
   "cell_type": "markdown",
   "metadata": {},
   "source": [
    "If you pass only a start date, then pass a number of periods to generate:"
   ]
  },
  {
   "cell_type": "code",
   "execution_count": 19,
   "metadata": {},
   "outputs": [
    {
     "data": {
      "text/plain": [
       "DatetimeIndex(['2018-11-24', '2018-11-25', '2018-11-26', '2018-11-27',\n",
       "               '2018-11-28', '2018-11-29', '2018-11-30', '2018-12-01',\n",
       "               '2018-12-02', '2018-12-03', '2018-12-04', '2018-12-05',\n",
       "               '2018-12-06', '2018-12-07', '2018-12-08', '2018-12-09',\n",
       "               '2018-12-10', '2018-12-11', '2018-12-12', '2018-12-13'],\n",
       "              dtype='datetime64[ns]', freq='D')"
      ]
     },
     "execution_count": 19,
     "metadata": {},
     "output_type": "execute_result"
    }
   ],
   "source": [
    "# daily by default\n",
    "pd.date_range(start='2018-11-24', periods = 20)"
   ]
  },
  {
   "cell_type": "markdown",
   "metadata": {},
   "source": [
    "Similarly, if you pass ony end date, you must pass a number of periods to generate:"
   ]
  },
  {
   "cell_type": "code",
   "execution_count": 20,
   "metadata": {},
   "outputs": [
    {
     "data": {
      "text/plain": [
       "DatetimeIndex(['2018-11-05', '2018-11-06', '2018-11-07', '2018-11-08',\n",
       "               '2018-11-09', '2018-11-10', '2018-11-11', '2018-11-12',\n",
       "               '2018-11-13', '2018-11-14', '2018-11-15', '2018-11-16',\n",
       "               '2018-11-17', '2018-11-18', '2018-11-19', '2018-11-20',\n",
       "               '2018-11-21', '2018-11-22', '2018-11-23', '2018-11-24'],\n",
       "              dtype='datetime64[ns]', freq='D')"
      ]
     },
     "execution_count": 20,
     "metadata": {},
     "output_type": "execute_result"
    }
   ],
   "source": [
    "pd.date_range(end='2018-11-24', periods = 20)"
   ]
  },
  {
   "cell_type": "code",
   "execution_count": 21,
   "metadata": {},
   "outputs": [
    {
     "data": {
      "text/plain": [
       "DatetimeIndex(['2019-10-30', '2019-11-06', '2019-11-13', '2019-11-20',\n",
       "               '2019-11-27', '2019-12-04', '2019-12-11', '2019-12-18',\n",
       "               '2019-12-25', '2020-01-01', '2020-01-08', '2020-01-15',\n",
       "               '2020-01-22', '2020-01-29', '2020-02-05', '2020-02-12',\n",
       "               '2020-02-19', '2020-02-26', '2020-03-04', '2020-03-11'],\n",
       "              dtype='datetime64[ns]', freq='W-WED')"
      ]
     },
     "execution_count": 21,
     "metadata": {},
     "output_type": "execute_result"
    }
   ],
   "source": [
    "# Frequency weekly on Wednesday\n",
    "pd.date_range(start='2019-10-30', periods = 20, freq='W-WED')"
   ]
  },
  {
   "cell_type": "markdown",
   "metadata": {},
   "source": [
    "Other frequencies:  \n",
    "https://pandas.pydata.org/docs/user_guide/timeseries.html#offset-aliases\n",
    "\n",
    "https://pandas.pydata.org/docs/user_guide/timeseries.html#anchored-offsets"
   ]
  },
  {
   "cell_type": "markdown",
   "metadata": {},
   "source": [
    "***date_range*** by default preserves the **time** of the start or end timestamp:"
   ]
  },
  {
   "cell_type": "code",
   "execution_count": 22,
   "metadata": {},
   "outputs": [
    {
     "data": {
      "text/plain": [
       "DatetimeIndex(['2018-11-24 17:35:05', '2018-11-25 17:35:05',\n",
       "               '2018-11-26 17:35:05', '2018-11-27 17:35:05',\n",
       "               '2018-11-28 17:35:05'],\n",
       "              dtype='datetime64[ns]', freq='D')"
      ]
     },
     "execution_count": 22,
     "metadata": {},
     "output_type": "execute_result"
    }
   ],
   "source": [
    "pd.date_range('2018-11-24 17:35:05', periods=5)"
   ]
  },
  {
   "cell_type": "markdown",
   "metadata": {},
   "source": [
    "Use ***normalize*** option to normalize to midnight:"
   ]
  },
  {
   "cell_type": "code",
   "execution_count": 23,
   "metadata": {},
   "outputs": [
    {
     "data": {
      "text/plain": [
       "DatetimeIndex(['2018-11-24', '2018-11-25', '2018-11-26', '2018-11-27',\n",
       "               '2018-11-28'],\n",
       "              dtype='datetime64[ns]', freq='D')"
      ]
     },
     "execution_count": 23,
     "metadata": {},
     "output_type": "execute_result"
    }
   ],
   "source": [
    "pd.date_range('2018-11-24 17:35:05', periods=5, normalize=True)"
   ]
  },
  {
   "cell_type": "markdown",
   "metadata": {},
   "source": [
    "## Frequencies and Date Offsets"
   ]
  },
  {
   "cell_type": "markdown",
   "metadata": {},
   "source": [
    "**Frequencies** in pandas are composed of a base frequency and a multiplier.  \n",
    "  \n",
    "Base frequencies are typically referred to by a string alias:\n",
    "- D - Day \n",
    "- B - BusinessDay  \n",
    "- H - Hour  \n",
    "- T or min - Minute  \n",
    "- S - Second  \n",
    "- M - MonthEnd \n",
    "- BM - BusinessMonthEnd\n",
    "- MS - MonthBegin\n",
    "- BMS - BusinessMonthBegin\n",
    "- W-MON, W-TUE, ... - Week  \n"
   ]
  },
  {
   "cell_type": "code",
   "execution_count": 24,
   "metadata": {},
   "outputs": [
    {
     "data": {
      "text/plain": [
       "DatetimeIndex(['2018-11-24 00:00:00', '2018-11-24 04:00:00',\n",
       "               '2018-11-24 08:00:00', '2018-11-24 12:00:00',\n",
       "               '2018-11-24 16:00:00', '2018-11-24 20:00:00',\n",
       "               '2018-11-25 00:00:00', '2018-11-25 04:00:00',\n",
       "               '2018-11-25 08:00:00', '2018-11-25 12:00:00',\n",
       "               '2018-11-25 16:00:00', '2018-11-25 20:00:00',\n",
       "               '2018-11-26 00:00:00', '2018-11-26 04:00:00',\n",
       "               '2018-11-26 08:00:00', '2018-11-26 12:00:00',\n",
       "               '2018-11-26 16:00:00', '2018-11-26 20:00:00'],\n",
       "              dtype='datetime64[ns]', freq='4H')"
      ]
     },
     "execution_count": 24,
     "metadata": {},
     "output_type": "execute_result"
    }
   ],
   "source": [
    "ind = pd.date_range('2018-11-24', '2018-11-26 23:59', freq='4h')\n",
    "ind"
   ]
  },
  {
   "cell_type": "code",
   "execution_count": 25,
   "metadata": {},
   "outputs": [
    {
     "data": {
      "text/plain": [
       "<AxesSubplot:>"
      ]
     },
     "execution_count": 25,
     "metadata": {},
     "output_type": "execute_result"
    },
    {
     "data": {
      "image/png": "[encoded data removed]",
      "text/plain": [
       "<Figure size 432x288 with 1 Axes>"
      ]
     },
     "metadata": {
      "needs_background": "light"
     },
     "output_type": "display_data"
    }
   ],
   "source": [
    "ts = Series(np.random.randn(18), index=ind)\n",
    "ts.plot()"
   ]
  },
  {
   "cell_type": "code",
   "execution_count": 26,
   "metadata": {},
   "outputs": [
    {
     "data": {
      "text/plain": [
       "<AxesSubplot:>"
      ]
     },
     "execution_count": 26,
     "metadata": {},
     "output_type": "execute_result"
    },
    {
     "data": {
      "image/png": "[encoded data removed]",
      "text/plain": [
       "<Figure size 432x288 with 1 Axes>"
      ]
     },
     "metadata": {
      "needs_background": "light"
     },
     "output_type": "display_data"
    }
   ],
   "source": [
    "ts.cumsum()\n",
    "ts.plot()"
   ]
  },
  {
   "cell_type": "markdown",
   "metadata": {},
   "source": [
    "## Assignment\n",
    "1. Please display time series data from today to the end of the year at the start of each month.  \n",
    "  \n",
    "2. Please display a slice of the same time series object during summer months."
   ]
  }
 ],
 "metadata": {
  "kernelspec": {
   "display_name": "Python 3 (ipykernel)",
   "language": "python",
   "name": "python3"
  },
  "language_info": {
   "codemirror_mode": {
    "name": "ipython",
    "version": 3
   },
   "file_extension": ".py",
   "mimetype": "text/x-python",
   "name": "python",
   "nbconvert_exporter": "python",
   "pygments_lexer": "ipython3",
   "version": "3.9.7"
  }
 },
 "nbformat": 4,
 "nbformat_minor": 2
}
