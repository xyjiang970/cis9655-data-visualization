{
 "cells": [
  {
   "cell_type": "markdown",
   "metadata": {},
   "source": [
    "# matplotlib.patches\n",
    "\n",
    "**matplotlib.patches** module is used to draw graphics primitives (artists) by utilizing maplotlib API.\n",
    "\n",
    "Patches Rectangle and Circle are found in **maptlotlib.pyplot**. \n",
    "\n",
    "The full set it located in matplotlib.patches: [Examples](https://matplotlib.org/stable/gallery/shapes_and_collections/artist_reference.html)&nbsp;&nbsp;  [More Examples](https://matplotlib.org/stable/gallery/shapes_and_collections/patch_collection.html)\n",
    "\n",
    "matplotlib.patches [classes](https://matplotlib.org/stable/api/patches_api.html)"
   ]
  },
  {
   "cell_type": "code",
   "execution_count": 1,
   "metadata": {},
   "outputs": [],
   "source": [
    "import matplotlib.pyplot as plt\n",
    "import matplotlib\n",
    "import pandas as pd\n",
    "import numpy as np\n",
    "plt.rc('figure', figsize=(10, 6))\n",
    "%matplotlib inline"
   ]
  },
  {
   "cell_type": "code",
   "execution_count": 7,
   "metadata": {},
   "outputs": [
    {
     "data": {
      "text/plain": [
       "<matplotlib.patches.Polygon at 0x7f930c989470>"
      ]
     },
     "execution_count": 7,
     "metadata": {},
     "output_type": "execute_result"
    },
    {
     "data": {
      "image/png": "[encoded data removed]",
      "text/plain": [
       "<Figure size 432x432 with 1 Axes>"
      ]
     },
     "metadata": {
      "needs_background": "light"
     },
     "output_type": "display_data"
    }
   ],
   "source": [
    "fig = plt.figure(figsize=(6, 6))   #figsize: width, height in inches. \n",
    "                                   #If not provided, defaults to rcParams[\"figure.figsize\"] = [6.4, 4.8]\n",
    "\n",
    "ax = fig.add_subplot(1, 1, 1)\n",
    "\n",
    "# Rectangle\n",
    "# xy - the bottom left rectangle coordinates\n",
    "# alpha - float (0.0 transparent through 1.0 opaque)\n",
    "rect = plt.Rectangle(xy=(0.2, 0.75), width=0.4, height=0.15, \n",
    "                     color='k', alpha=.3)\n",
    "\n",
    "# Circle\n",
    "#xy - circle center\n",
    "circ = plt.Circle(xy=(0.7, 0.2), radius=0.15, color='b', alpha=.3)\n",
    "\n",
    "\n",
    "# Polygon\n",
    "pgon = plt.Polygon(xy=[[0.15, 0.15], [0.35, 0.4], [0.2, 0.6]],\n",
    "                   color='g', alpha=.3)\n",
    "\n",
    "ax.add_patch(rect)\n",
    "ax.add_patch(circ)\n",
    "ax.add_patch(pgon)"
   ]
  },
  {
   "cell_type": "markdown",
   "metadata": {},
   "source": [
    "### Saving Plots to File\n",
    "\n",
    "You can save active figures with *plt.savefig()*.    \n",
    "  \n",
    "The file type is inferred from the file extension.  So if you used .pdf instead, you would get a pdf."
   ]
  },
  {
   "cell_type": "markdown",
   "metadata": {},
   "source": [
    "```python\n",
    "plt.savefig('figpath.svg')\n",
    "```"
   ]
  },
  {
   "cell_type": "markdown",
   "metadata": {},
   "source": [
    "```python\n",
    "plt.savefig('figpath.png', dpi=400, bbox_inches='tight')\n",
    "```\n",
    "*dpi* - dot per inch, controls resolution  \n",
    "  \n",
    "*bbox_inches='tight'* will attempt to trim the white space around your figure "
   ]
  }
 ],
 "metadata": {
  "kernelspec": {
   "display_name": "Python 3",
   "language": "python",
   "name": "python3"
  },
  "language_info": {
   "codemirror_mode": {
    "name": "ipython",
    "version": 3
   },
   "file_extension": ".py",
   "mimetype": "text/x-python",
   "name": "python",
   "nbconvert_exporter": "python",
   "pygments_lexer": "ipython3",
   "version": "3.6.10"
  }
 },
 "nbformat": 4,
 "nbformat_minor": 1
}
